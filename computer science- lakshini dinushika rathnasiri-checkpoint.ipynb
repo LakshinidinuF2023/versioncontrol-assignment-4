{
 "cells": [
  {
   "cell_type": "markdown",
   "id": "2ea808ac",
   "metadata": {},
   "source": [
    "Lakshini Dinushika Rathnasiri - assignment week 1"
   ]
  },
  {
   "cell_type": "markdown",
   "id": "d7b3409d",
   "metadata": {},
   "source": [
    "I."
   ]
  },
  {
   "cell_type": "markdown",
   "id": "9620e639",
   "metadata": {},
   "source": [
    "question 1"
   ]
  },
  {
   "cell_type": "markdown",
   "id": "b4fca078",
   "metadata": {},
   "source": [
    "# ASSIGNMENT 01"
   ]
  },
  {
   "cell_type": "markdown",
   "id": "2b94721c",
   "metadata": {},
   "source": [
    "08-02-2023"
   ]
  },
  {
   "cell_type": "markdown",
   "id": "9b0e7336",
   "metadata": {},
   "source": [
    "# **Lakshini Dinushika Rathnasiri**"
   ]
  },
  {
   "cell_type": "markdown",
   "id": "e95d028e",
   "metadata": {},
   "source": [
    "question 2"
   ]
  },
  {
   "cell_type": "markdown",
   "id": "7eb60f0e",
   "metadata": {},
   "source": [
    "Programing Languages:\n",
    "* Python\n",
    "* java\n",
    "* c++\n",
    "* Ruby\n",
    "* PHP"
   ]
  },
  {
   "cell_type": "markdown",
   "id": "9990854f",
   "metadata": {},
   "source": [
    "question 3"
   ]
  },
  {
   "cell_type": "markdown",
   "id": "a6336005",
   "metadata": {},
   "source": [
    "<h1> NETWORK INFRASTRUCTURE</h1>"
   ]
  },
  {
   "cell_type": "markdown",
   "id": "876577fe",
   "metadata": {},
   "source": [
    "|Intermidiate Devices||End Devices||Media|\n",
    "|--||---||---|\n",
    "|wireless router||laptop||wireless media|\n",
    "|LAN switch||printer||WAN media|"
   ]
  },
  {
   "cell_type": "code",
   "execution_count": null,
   "id": "9742b317",
   "metadata": {},
   "outputs": [],
   "source": [
    "ii."
   ]
  },
  {
   "cell_type": "markdown",
   "id": "06b9f0c1",
   "metadata": {},
   "source": [
    "question 1"
   ]
  },
  {
   "cell_type": "code",
   "execution_count": 1,
   "id": "790875d7",
   "metadata": {},
   "outputs": [
    {
     "name": "stdout",
     "output_type": "stream",
     "text": [
      "lakshini dinushika rathnasiri\n"
     ]
    }
   ],
   "source": [
    "print('lakshini dinushika rathnasiri')"
   ]
  },
  {
   "cell_type": "markdown",
   "id": "5d582786",
   "metadata": {},
   "source": [
    "question 2"
   ]
  },
  {
   "cell_type": "code",
   "execution_count": 3,
   "id": "fe3fc626",
   "metadata": {},
   "outputs": [
    {
     "name": "stdout",
     "output_type": "stream",
     "text": [
      "hello lakshini dinushika rathnasiri\n"
     ]
    }
   ],
   "source": [
    "print('hello lakshini dinushika rathnasiri')"
   ]
  },
  {
   "cell_type": "code",
   "execution_count": 4,
   "id": "b1d3be63",
   "metadata": {
    "scrolled": true
   },
   "outputs": [
    {
     "name": "stdout",
     "output_type": "stream",
     "text": [
      "sum of x and y is 30\n"
     ]
    }
   ],
   "source": [
    "x=20\n",
    "y=10\n",
    "z=x+y\n",
    "print('sum of x and y is',z)"
   ]
  },
  {
   "cell_type": "code",
   "execution_count": null,
   "id": "d32f4deb",
   "metadata": {},
   "outputs": [],
   "source": []
  }
 ],
 "metadata": {
  "kernelspec": {
   "display_name": "Python 3 (ipykernel)",
   "language": "python",
   "name": "python3"
  },
  "language_info": {
   "codemirror_mode": {
    "name": "ipython",
    "version": 3
   },
   "file_extension": ".py",
   "mimetype": "text/x-python",
   "name": "python",
   "nbconvert_exporter": "python",
   "pygments_lexer": "ipython3",
   "version": "3.9.13"
  }
 },
 "nbformat": 4,
 "nbformat_minor": 5
}
