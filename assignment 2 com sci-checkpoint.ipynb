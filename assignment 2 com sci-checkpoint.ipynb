{
 "cells": [
  {
   "cell_type": "markdown",
   "id": "1e73057f",
   "metadata": {},
   "source": [
    "**ASSIGNMENT 02**"
   ]
  },
  {
   "cell_type": "markdown",
   "id": "b3858f20",
   "metadata": {},
   "source": [
    "Lakshini Dinushika Rathnasiri"
   ]
  },
  {
   "cell_type": "code",
   "execution_count": null,
   "id": "4a14e4ae",
   "metadata": {},
   "outputs": [],
   "source": [
    "20.02.2023"
   ]
  },
  {
   "cell_type": "markdown",
   "id": "8e2ec3d4",
   "metadata": {},
   "source": [
    "question 01"
   ]
  },
  {
   "cell_type": "code",
   "execution_count": 2,
   "id": "5538b827",
   "metadata": {},
   "outputs": [
    {
     "name": "stdout",
     "output_type": "stream",
     "text": [
      "final result is:\n",
      "149769\n"
     ]
    }
   ],
   "source": [
    "#assign values for two variables\n",
    "num1=100\n",
    "num2=29\n",
    "\n",
    "#sum of give numbers and then multiply by 3\n",
    "result=(num1+num2)*3\n",
    "\n",
    "#second exponent of result\n",
    "new_result=result**2\n",
    "\n",
    "#print final result\n",
    "print(\"final result is:\")\n",
    "print(\"\"+str(new_result))\n"
   ]
  },
  {
   "cell_type": "markdown",
   "id": "ae9dbc82",
   "metadata": {},
   "source": [
    "question 02"
   ]
  },
  {
   "cell_type": "code",
   "execution_count": null,
   "id": "d57d5c91",
   "metadata": {},
   "outputs": [],
   "source": [
    "#add input and save it to variable\n",
    "name=input(\"john:\")\n",
    "Birth_year=int(input(\"1995:\"))\n",
    "age=int(input(\"26\"))\n",
    "\n",
    "#convert birth year to a string and extract the last two digits \n",
    "birth_year_str=str(Birth_year)\n",
    "birth_year_last_two=birth_year_str[-2:]\n",
    "\n",
    "#extract the first 3 letters of the name\n",
    "first_three_letters=name[:3]\n",
    "\n",
    "#calculate second power of age and convert into a string\n",
    "sec_pow_age=str(age**2)\n",
    "\n",
    "#combine components to create password\n",
    "password=birth_year_last_two+first_three_letters+sec_pow_age\n",
    "\n",
    "print(\"password is:\"+password)\n",
    "\n"
   ]
  },
  {
   "cell_type": "markdown",
   "id": "49e5f9a5",
   "metadata": {},
   "source": [
    "question 03"
   ]
  },
  {
   "cell_type": "code",
   "execution_count": null,
   "id": "ad63f3d6",
   "metadata": {},
   "outputs": [],
   "source": [
    "#add input and save as variables\n",
    "num1=int(input(\"5:\"))\n",
    "num2=int(input(\"6:\"))\n",
    "\n",
    "#check num1 and num2 even\n",
    "if num1%2==0 and num2%==0:\n",
    "    print(\"both numbers are even\")\n",
    "    \n",
    "    #check only one is even\n",
    "    elif num1%2==0 or num2%2==0:\n",
    "        print(\"one of the numbers is even\")\n",
    "        \n",
    "        #if neither of the numbers is even\n",
    "        else:\n",
    "            print(\"both numbers are odd\")"
   ]
  },
  {
   "cell_type": "markdown",
   "id": "6da0332f",
   "metadata": {},
   "source": [
    "question 4"
   ]
  },
  {
   "cell_type": "code",
   "execution_count": null,
   "id": "c69e3a15",
   "metadata": {},
   "outputs": [],
   "source": [
    "#add inputs and save as variables\n",
    "num=int(input(\"5:\"))\n",
    "\n",
    "#initialize a variable to keep track of the sum\n",
    "sum=0\n",
    "\n",
    "#loop through all positives 0 to num-1 and add them to sum\n",
    "for i in range (num):\n",
    "    if i>=0:\n",
    "        sum+=i\n",
    "        \n",
    "        print(\"sum:\",sum)\n"
   ]
  },
  {
   "cell_type": "markdown",
   "id": "8c60690f",
   "metadata": {},
   "source": [
    "questions 5"
   ]
  },
  {
   "cell_type": "code",
   "execution_count": null,
   "id": "c2222562",
   "metadata": {},
   "outputs": [],
   "source": [
    "import random\n",
    "\n",
    "#geneate random number between 0 and 10\n",
    "num=random.randint(0,10)\n",
    "\n",
    "#initialize a variable to keep track of thenumber tries\n",
    "tries=0\n",
    "\n",
    "#ask the players toguess the number and give feedback untill the number isguessed\n",
    "while true:\n",
    "    guess=int(input(\"2\"))\n",
    "    tries+=1\n",
    "    \n",
    "    if guess<num:\n",
    "        print(\"try a great number\")\n",
    "        elif guess>num:\n",
    "            print(\"try a smaller number\")\n",
    "            else:\n",
    "                print(\"That's right!number of tries:\",tries)\n",
    "                break\n",
    "                \n"
   ]
  },
  {
   "cell_type": "code",
   "execution_count": null,
   "id": "8282cea2",
   "metadata": {},
   "outputs": [],
   "source": [
    "import random\n",
    "\n",
    "#geneate random number between 0 and 10\n",
    "num=random.randint(0,10)\n",
    "\n",
    "#initialize a variable to keep track of thenumber tries\n",
    "tries=0\n",
    "\n",
    "#ask the players toguess the number and give feedback untill the number isguessed\n",
    "while true:\n",
    "    guess=int(input(\"5\"))\n",
    "    tries+=1\n",
    "    \n",
    "    if guess<num:\n",
    "        print(\"try a great number\")\n",
    "        elif guess>num:\n",
    "            print(\"try a smaller number\")\n",
    "            else:\n",
    "                print(\"That's right!number of tries:\",tries)\n",
    "                break\n",
    "                \n"
   ]
  },
  {
   "cell_type": "code",
   "execution_count": null,
   "id": "75ea36cb",
   "metadata": {},
   "outputs": [],
   "source": [
    "import random\n",
    "\n",
    "#geneate random number between 0 and 10\n",
    "num=random.randint(0,10)\n",
    "\n",
    "#initialize a variable to keep track of thenumber tries\n",
    "tries=0\n",
    "\n",
    "#ask the players toguess the number and give feedback untill the number isguessed\n",
    "while true:\n",
    "    guess=int(input(\"7\"))\n",
    "    tries+=1\n",
    "    \n",
    "    if guess<num:\n",
    "        print(\"try a great number\")\n",
    "        elif guess>num:\n",
    "            print(\"try a smaller number\")\n",
    "            else:\n",
    "                print(\"That's right!number of tries:\",tries)\n",
    "                break\n",
    "                \n"
   ]
  },
  {
   "cell_type": "markdown",
   "id": "be0d1f85",
   "metadata": {},
   "source": [
    "two players"
   ]
  },
  {
   "cell_type": "code",
   "execution_count": null,
   "id": "b48d9f38",
   "metadata": {},
   "outputs": [],
   "source": [
    "import random\n",
    "#geneate random number between 0 and 10\n",
    "num=random.randint(0,10)\n",
    "\n",
    "#initialize variables \n",
    "tries_player1=0\n",
    "tries_player2=0\n",
    "\n",
    "#ask player1 too guess the number and give feedback until the number is guessed\n",
    "\n",
    "while true:\n",
    "    guess=int(input(\"player1:5:\"))\n",
    "    tries_player1+=1\n",
    "    if guess<num:\n",
    "        print(\"Try a grater number\")\n",
    "        elif guess>num:\n",
    "            print(\"try a small number\")\n",
    "            else:\n",
    "            print(\"That's right!number of tries:\",tries_player1)\n",
    "        break\n",
    "        \n",
    "#geneate random number between 0 and 10\n",
    "num=random.randint(0,10)\n",
    "#ask player2 too guess the number and give feedback until the number is guessed\n",
    "\n",
    "while true:\n",
    "    guess=int(input(\"player2:6:\"))\n",
    "    tries_player2+=1\n",
    "     if guess<num:\n",
    "        print(\"Try a grater number\")\n",
    "        elif guess>num:\n",
    "            print(\"try a small number\")\n",
    "            else:\n",
    "            print(\"That's right!number of tries:\",tries_player1)\n",
    "        break\n",
    "        \n",
    "        #compare\n",
    "        if tries_player1<tries-player2:\n",
    "            print(\"winner is player 1\")\n",
    "            elif tries_player1>tries_player2:\n",
    "                print(\"winner is player 2\")\n",
    "            else:\n",
    "                print(\"it is a tie!\")\n",
    "    \n",
    "        "
   ]
  },
  {
   "cell_type": "code",
   "execution_count": null,
   "id": "169e4a57",
   "metadata": {},
   "outputs": [],
   "source": []
  }
 ],
 "metadata": {
  "kernelspec": {
   "display_name": "Python 3 (ipykernel)",
   "language": "python",
   "name": "python3"
  },
  "language_info": {
   "codemirror_mode": {
    "name": "ipython",
    "version": 3
   },
   "file_extension": ".py",
   "mimetype": "text/x-python",
   "name": "python",
   "nbconvert_exporter": "python",
   "pygments_lexer": "ipython3",
   "version": "3.9.13"
  }
 },
 "nbformat": 4,
 "nbformat_minor": 5
}
