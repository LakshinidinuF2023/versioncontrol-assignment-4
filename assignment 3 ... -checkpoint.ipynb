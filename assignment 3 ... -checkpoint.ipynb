{
 "cells": [
  {
   "cell_type": "markdown",
   "id": "210b40c4",
   "metadata": {},
   "source": [
    "**ASSIGNMENT 03**"
   ]
  },
  {
   "cell_type": "markdown",
   "id": "73c21ddd",
   "metadata": {},
   "source": [
    "Lakshini Dinushika Rathnasiri"
   ]
  },
  {
   "cell_type": "markdown",
   "id": "a1c71737",
   "metadata": {},
   "source": [
    "22.02.2023"
   ]
  },
  {
   "cell_type": "markdown",
   "id": "f5583474",
   "metadata": {},
   "source": [
    "question 1"
   ]
  },
  {
   "cell_type": "code",
   "execution_count": 2,
   "id": "2b74503f",
   "metadata": {},
   "outputs": [
    {
     "name": "stdout",
     "output_type": "stream",
     "text": [
      "30\n"
     ]
    }
   ],
   "source": [
    "lambda x,y: x*y\n",
    "result=(lambda x,y: x*y)(5,6)\n",
    "print(result)"
   ]
  },
  {
   "cell_type": "markdown",
   "id": "d54e76a6",
   "metadata": {},
   "source": [
    "questions 2"
   ]
  },
  {
   "cell_type": "code",
   "execution_count": 7,
   "id": "0fd97575",
   "metadata": {},
   "outputs": [
    {
     "name": "stdout",
     "output_type": "stream",
     "text": [
      "the area of a circle with radius 10 is 314.1592653589793\n"
     ]
    }
   ],
   "source": [
    "import math\n",
    "def area_of_circle(radius):\n",
    "    area=math.pi*radius**2\n",
    "    return area\n",
    "#test the function with a radius of 10\n",
    "radius =10\n",
    "area= area_of_circle(radius)\n",
    "print(\"the area of a circle with radius\",radius,\"is\",area)"
   ]
  },
  {
   "cell_type": "markdown",
   "id": "8708efbc",
   "metadata": {},
   "source": [
    "question 3"
   ]
  },
  {
   "cell_type": "code",
   "execution_count": 10,
   "id": "d4afa985",
   "metadata": {},
   "outputs": [
    {
     "ename": "IndentationError",
     "evalue": "expected an indented block (607825711.py, line 3)",
     "output_type": "error",
     "traceback": [
      "\u001b[1;36m  File \u001b[1;32m\"C:\\Users\\chamara\\AppData\\Local\\Temp\\ipykernel_1464\\607825711.py\"\u001b[1;36m, line \u001b[1;32m3\u001b[0m\n\u001b[1;33m    if operation=='a':\u001b[0m\n\u001b[1;37m    ^\u001b[0m\n\u001b[1;31mIndentationError\u001b[0m\u001b[1;31m:\u001b[0m expected an indented block\n"
     ]
    }
   ],
   "source": [
    "def calculator (number1, number2, operation):\n",
    "   \n",
    "if operation=='a':\n",
    "    return number1 + number2\n",
    "\n",
    "elif operation=='s':\n",
    "    return number1 - number2\n",
    "\n",
    "elif operation=='m':\n",
    "    return number1 * number2\n",
    "\n",
    "elif operation=='d':\n",
    "    return number1 / number2\n",
    "\n",
    "else:\n",
    "    return \"invalid operation\"\n",
    "\n",
    "result=calculator(2, 5, 'd')\n",
    "print(result)"
   ]
  },
  {
   "cell_type": "markdown",
   "id": "9203ec93",
   "metadata": {},
   "source": [
    "question 4"
   ]
  },
  {
   "cell_type": "code",
   "execution_count": 20,
   "id": "55e1576f",
   "metadata": {},
   "outputs": [],
   "source": [
    "class rectangle:\n",
    "    def _init_(self, length,width):\n",
    "        self.length = length\n",
    "        self.width = width\n",
    "        \n",
    "        def area(self):\n",
    "            return self.length*self.width\n",
    "        \n",
    "        r = rectangle(5,10)\n",
    "        print(r.area())"
   ]
  },
  {
   "cell_type": "markdown",
   "id": "baa23819",
   "metadata": {},
   "source": [
    "question 5"
   ]
  },
  {
   "cell_type": "code",
   "execution_count": 21,
   "id": "aa6354ee",
   "metadata": {},
   "outputs": [
    {
     "ename": "SyntaxError",
     "evalue": "invalid syntax (3825062184.py, line 2)",
     "output_type": "error",
     "traceback": [
      "\u001b[1;36m  File \u001b[1;32m\"C:\\Users\\chamara\\AppData\\Local\\Temp\\ipykernel_1464\\3825062184.py\"\u001b[1;36m, line \u001b[1;32m2\u001b[0m\n\u001b[1;33m    def _init_(self , name= name)\u001b[0m\n\u001b[1;37m                                 ^\u001b[0m\n\u001b[1;31mSyntaxError\u001b[0m\u001b[1;31m:\u001b[0m invalid syntax\n"
     ]
    }
   ],
   "source": [
    "class shape:\n",
    "    def _init_(self , name= name)\n",
    "    self.name=name\n",
    "    self.length=length\n",
    "    \n",
    "    def area(self):\n",
    "        return 0\n",
    "    \n",
    "    class square(shape):\n",
    "        def_init_(self,name,length):\n",
    "            super()._init_(name,length)\n",
    "            \n",
    "            def area(self):\n",
    "                return self.length*self.length\n",
    "            \n",
    "            def describe(self):\n",
    "                print(\"this is a shape\"+ self.name)\n",
    "                \n",
    "                s=square('square',5)\n",
    "                print(s.area())\n",
    "                s.describe()"
   ]
  },
  {
   "cell_type": "code",
   "execution_count": null,
   "id": "9919ce53",
   "metadata": {},
   "outputs": [],
   "source": []
  }
 ],
 "metadata": {
  "kernelspec": {
   "display_name": "Python 3 (ipykernel)",
   "language": "python",
   "name": "python3"
  },
  "language_info": {
   "codemirror_mode": {
    "name": "ipython",
    "version": 3
   },
   "file_extension": ".py",
   "mimetype": "text/x-python",
   "name": "python",
   "nbconvert_exporter": "python",
   "pygments_lexer": "ipython3",
   "version": "3.9.13"
  }
 },
 "nbformat": 4,
 "nbformat_minor": 5
}
