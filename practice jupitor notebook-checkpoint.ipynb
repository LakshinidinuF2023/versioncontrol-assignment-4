{
 "cells": [
  {
   "cell_type": "code",
   "execution_count": 2,
   "id": "7ac8bb28",
   "metadata": {},
   "outputs": [
    {
     "ename": "IndentationError",
     "evalue": "expected an indented block (2485897201.py, line 2)",
     "output_type": "error",
     "traceback": [
      "\u001b[1;36m  File \u001b[1;32m\"C:\\Users\\chamara\\AppData\\Local\\Temp\\ipykernel_6256\\2485897201.py\"\u001b[1;36m, line \u001b[1;32m2\u001b[0m\n\u001b[1;33m    print(\"five is greater than two\")\u001b[0m\n\u001b[1;37m    ^\u001b[0m\n\u001b[1;31mIndentationError\u001b[0m\u001b[1;31m:\u001b[0m expected an indented block\n"
     ]
    }
   ],
   "source": [
    "if 5 > 2:\n",
    "print(\"five is greater than two\")"
   ]
  },
  {
   "cell_type": "code",
   "execution_count": 3,
   "id": "add747cc",
   "metadata": {},
   "outputs": [
    {
     "name": "stdout",
     "output_type": "stream",
     "text": [
      "five is greater than two\n"
     ]
    }
   ],
   "source": [
    "if 5>2:\n",
    "    print(\"five is greater than two\")"
   ]
  },
  {
   "cell_type": "code",
   "execution_count": 6,
   "id": "fe49ed25",
   "metadata": {},
   "outputs": [
    {
     "name": "stdout",
     "output_type": "stream",
     "text": [
      "5\n",
      "john\n"
     ]
    }
   ],
   "source": [
    "x=5\n",
    "y=\"john\"\n",
    "print(x)\n",
    "print(y)"
   ]
  },
  {
   "cell_type": "raw",
   "id": "9bf77fee",
   "metadata": {},
   "source": [
    "x=2\n",
    "x=\"sally\"\n",
    "print(x)"
   ]
  },
  {
   "cell_type": "code",
   "execution_count": 12,
   "id": "bff30e32",
   "metadata": {},
   "outputs": [
    {
     "name": "stdout",
     "output_type": "stream",
     "text": [
      "sallu\n"
     ]
    }
   ],
   "source": [
    "x=2\n",
    "x=\"sallu\"\n",
    "print(x)"
   ]
  },
  {
   "cell_type": "code",
   "execution_count": 16,
   "id": "52e9dd11",
   "metadata": {},
   "outputs": [
    {
     "name": "stdout",
     "output_type": "stream",
     "text": [
      "3\n",
      "3\n",
      "3.0\n"
     ]
    }
   ],
   "source": [
    "x=str(3)\n",
    "y=int(3)\n",
    "z=float(3)\n",
    "print(x)\n",
    "print(y)\n",
    "print(z)"
   ]
  },
  {
   "cell_type": "code",
   "execution_count": 14,
   "id": "d1d6554e",
   "metadata": {},
   "outputs": [],
   "source": [
    "x=str(3)"
   ]
  },
  {
   "cell_type": "code",
   "execution_count": 17,
   "id": "5f1c3005",
   "metadata": {},
   "outputs": [
    {
     "name": "stdout",
     "output_type": "stream",
     "text": [
      "<class 'int'>\n",
      "<class 'str'>\n"
     ]
    }
   ],
   "source": [
    "x=5\n",
    "y=\"bae\"\n",
    "print(type(x))\n",
    "print(type(y))"
   ]
  },
  {
   "cell_type": "code",
   "execution_count": 18,
   "id": "3195defe",
   "metadata": {},
   "outputs": [
    {
     "name": "stdout",
     "output_type": "stream",
     "text": [
      "john\n",
      "john\n"
     ]
    }
   ],
   "source": [
    "x=\"john\"\n",
    "print(x)\n",
    "y='john'\n",
    "print(y)"
   ]
  },
  {
   "cell_type": "code",
   "execution_count": 23,
   "id": "a3eab136",
   "metadata": {},
   "outputs": [
    {
     "name": "stdout",
     "output_type": "stream",
     "text": [
      "dinu\n"
     ]
    }
   ],
   "source": [
    "myv=\"dinu\"\n",
    "print(myv)"
   ]
  },
  {
   "cell_type": "code",
   "execution_count": 24,
   "id": "b254ae17",
   "metadata": {},
   "outputs": [
    {
     "name": "stdout",
     "output_type": "stream",
     "text": [
      "dinu\n"
     ]
    }
   ],
   "source": [
    "my_var=\"dinu\"\n",
    "print(my_var)"
   ]
  },
  {
   "cell_type": "code",
   "execution_count": 26,
   "id": "f9daeb4e",
   "metadata": {},
   "outputs": [
    {
     "name": "stdout",
     "output_type": "stream",
     "text": [
      "DINU\n"
     ]
    }
   ],
   "source": [
    "MYVA=\"DINU\"\n",
    "print(MYVA)"
   ]
  },
  {
   "cell_type": "code",
   "execution_count": 30,
   "id": "ad41278d",
   "metadata": {},
   "outputs": [
    {
     "name": "stdout",
     "output_type": "stream",
     "text": [
      "apple\n",
      "banana\n",
      "cherry\n"
     ]
    }
   ],
   "source": [
    "x,y,z= \"apple\",\"banana\",\"cherry\"\n",
    "print(x)\n",
    "print(y)\n",
    "print(z)"
   ]
  },
  {
   "cell_type": "code",
   "execution_count": 32,
   "id": "43ed5285",
   "metadata": {},
   "outputs": [
    {
     "name": "stdout",
     "output_type": "stream",
     "text": [
      "orange\n",
      "orange\n",
      "orange\n"
     ]
    }
   ],
   "source": [
    "x=y=z=\"orange\"\n",
    "print(x)\n",
    "print(y)\n",
    "print(z)"
   ]
  },
  {
   "cell_type": "code",
   "execution_count": 33,
   "id": "4ff57922",
   "metadata": {},
   "outputs": [
    {
     "name": "stdout",
     "output_type": "stream",
     "text": [
      "red\n",
      "blue\n",
      "black\n"
     ]
    }
   ],
   "source": [
    "colors=[\"red\",\"blue\",\"black\"]\n",
    "x,y,z=colors\n",
    "print(x)\n",
    "print(y)\n",
    "print(z)"
   ]
  },
  {
   "cell_type": "code",
   "execution_count": null,
   "id": "6956d4e4",
   "metadata": {},
   "outputs": [],
   "source": []
  }
 ],
 "metadata": {
  "kernelspec": {
   "display_name": "Python 3 (ipykernel)",
   "language": "python",
   "name": "python3"
  },
  "language_info": {
   "codemirror_mode": {
    "name": "ipython",
    "version": 3
   },
   "file_extension": ".py",
   "mimetype": "text/x-python",
   "name": "python",
   "nbconvert_exporter": "python",
   "pygments_lexer": "ipython3",
   "version": "3.9.13"
  }
 },
 "nbformat": 4,
 "nbformat_minor": 5
}
