{
 "cells": [
  {
   "cell_type": "code",
   "execution_count": null,
   "id": "45e46973",
   "metadata": {},
   "outputs": [],
   "source": []
  },
  {
   "cell_type": "markdown",
   "id": "c4e28fba",
   "metadata": {},
   "source": [
    "# "
   ]
  },
  {
   "cell_type": "code",
   "execution_count": 1,
   "id": "6a024b4c",
   "metadata": {},
   "outputs": [
    {
     "name": "stdout",
     "output_type": "stream",
     "text": [
      "149769\n"
     ]
    }
   ],
   "source": [
    "num1=100\n",
    "num2=29\n",
    "sum=num1+num2\n",
    "result=sum*3\n",
    "\n",
    "final_answer=result*result\n",
    "print(final_answer)"
   ]
  },
  {
   "cell_type": "code",
   "execution_count": null,
   "id": "cb7af3ac",
   "metadata": {},
   "outputs": [],
   "source": [
    "# Ask for user input and save it to variables\n",
    "name = input(\"john: \")\n",
    "year_of_birth = int(input(\"1995: \"))\n",
    "age = int(input(\"26: \"))\n",
    "\n",
    "# Convert year of birth to a string and extract the last two digits\n",
    "year_str = str(year_of_birth)\n",
    "year_last_two = year_str[-2:]\n",
    "\n",
    "# Extract the first 3 letters of the name\n",
    "name_first_three = name[:3]\n",
    "\n",
    "# Calculate the second power of the age and convert it to a string\n",
    "age_pow_two = str(age ** 2)\n",
    "\n",
    "# Combine the components to create the password\n",
    "password = year_last_two + name_first_three + age_pow_two\n",
    "\n",
    "# Print the password\n",
    "print(\"Your password is: \" + password)"
   ]
  },
  {
   "cell_type": "code",
   "execution_count": null,
   "id": "9895d26c",
   "metadata": {},
   "outputs": [],
   "source": [
    "\n",
    "# Ask for user input and save it to variables\n",
    "num1 = int(input(\"5: \"))\n",
    "num2 = int(input(\"6: \"))\n",
    "\n",
    "# Check if both numbers are even\n",
    "if num1 % 2 == 0 and num2 % 2 == 0:\n",
    "    print(\"Both numbers are even.\")\n",
    "# Check if only one of the numbers is even\n",
    "elif num1 % 2 == 0 or num2 % 2 == 0:\n",
    "    print(\"One of the numbers is even.\")\n",
    "# If neither of the numbers is even\n",
    "else:\n",
    "    print(\"Both numbers are odd.\")"
   ]
  },
  {
   "cell_type": "code",
   "execution_count": null,
   "id": "b1187b1a",
   "metadata": {},
   "outputs": [],
   "source": [
    "# Ask for user input and save it to a variable\n",
    "num = int(input(\"Give an integer: \"))\n",
    "\n",
    "# Initialize a variable to keep track of the sum\n",
    "sum = 0\n",
    "\n",
    "# Loop through all positive numbers from 0 to num-1 and add them to the sum\n",
    "for i in range(num):\n",
    "    if i >= 0:\n",
    "        sum += i\n",
    "\n",
    "# Print the final sum\n",
    "print(\"The sum was:\", sum)"
   ]
  },
  {
   "cell_type": "code",
   "execution_count": null,
   "id": "7d8d3b5c",
   "metadata": {},
   "outputs": [],
   "source": []
  }
 ],
 "metadata": {
  "kernelspec": {
   "display_name": "Python 3 (ipykernel)",
   "language": "python",
   "name": "python3"
  },
  "language_info": {
   "codemirror_mode": {
    "name": "ipython",
    "version": 3
   },
   "file_extension": ".py",
   "mimetype": "text/x-python",
   "name": "python",
   "nbconvert_exporter": "python",
   "pygments_lexer": "ipython3",
   "version": "3.9.13"
  }
 },
 "nbformat": 4,
 "nbformat_minor": 5
}
