{
 "cells": [
  {
   "cell_type": "markdown",
   "id": "4d65edd4",
   "metadata": {},
   "source": [
    "q01"
   ]
  },
  {
   "cell_type": "code",
   "execution_count": 1,
   "id": "03bd464f",
   "metadata": {},
   "outputs": [
    {
     "name": "stdout",
     "output_type": "stream",
     "text": [
      "149769\n"
     ]
    }
   ],
   "source": [
    "num01=100\n",
    "num02=29\n",
    "sum=num01+num02\n",
    "result=sum*3\n",
    "\n",
    "final_answer=result*result\n",
    "print(final_answer)"
   ]
  },
  {
   "cell_type": "markdown",
   "id": "e524977a",
   "metadata": {},
   "source": [
    "q03"
   ]
  },
  {
   "cell_type": "code",
   "execution_count": 2,
   "id": "a935e115",
   "metadata": {},
   "outputs": [
    {
     "ename": "SyntaxError",
     "evalue": "invalid syntax (651396111.py, line 4)",
     "output_type": "error",
     "traceback": [
      "\u001b[1;36m  File \u001b[1;32m\"C:\\Users\\chamara\\AppData\\Local\\Temp\\ipykernel_5924\\651396111.py\"\u001b[1;36m, line \u001b[1;32m4\u001b[0m\n\u001b[1;33m    if num 1%2==o and num2%2==0:\u001b[0m\n\u001b[1;37m           ^\u001b[0m\n\u001b[1;31mSyntaxError\u001b[0m\u001b[1;31m:\u001b[0m invalid syntax\n"
     ]
    }
   ],
   "source": [
    "num1=input(\"5\")\n",
    "num2=input(\"6\")\n",
    "\n",
    "if num 1%2==o and num2%2==0:\n",
    "print(\"both numbers are even\")\n",
    "elif num1%2==0 or num2%2==0:\n",
    "    print(\"one of the number is even \")\n",
    "    else:\n",
    "        print(\"both numbers are odd\")"
   ]
  },
  {
   "cell_type": "markdown",
   "id": "a293fe68",
   "metadata": {},
   "source": [
    "q04"
   ]
  },
  {
   "cell_type": "code",
   "execution_count": null,
   "id": "4e9380e9",
   "metadata": {},
   "outputs": [],
   "source": [
    "num=input(\"give an integer\")\n",
    "sum=0\n",
    "while(num>0):\n",
    "    sum+=num\n",
    "    num-=1\n",
    "    print(\"the sum was\",sum)"
   ]
  },
  {
   "cell_type": "markdown",
   "id": "29b5a271",
   "metadata": {},
   "source": [
    "q02\n"
   ]
  },
  {
   "cell_type": "code",
   "execution_count": null,
   "id": "a9c2cd50",
   "metadata": {},
   "outputs": [],
   "source": [
    "name = input(\"john: \")\n",
    "age = int(input(\"26: \"))\n",
    "year_of_birth = int(input(\"1995: \"))\n",
    "\n",
    "# Extract the last two digits of the year of birth\n",
    "year_last_two_digits = year_of_birth % 100\n",
    "\n",
    "# Extract the first three letters of the name\n",
    "name_first_three_letters = name[:3]\n",
    "\n",
    "# Calculate the second power of the age\n",
    "age_power_two = age ** 2\n",
    "\n",
    "# Concatenate the three parts to create the password\n",
    "password = str(year_last_two_digits) + name_first_three_letters + str(age_power_two)\n",
    "\n",
    "print(\"Your password is:\", password)"
   ]
  },
  {
   "cell_type": "markdown",
   "id": "35740e85",
   "metadata": {},
   "source": [
    "q03"
   ]
  },
  {
   "cell_type": "code",
   "execution_count": null,
   "id": "6710bd8e",
   "metadata": {},
   "outputs": [],
   "source": [
    "num1 = int(input(\"5: \"))\n",
    "num2 = int(input(\"6: \"))\n",
    "\n",
    "if num1 % 2 == 0 and num2 % 2 == 0:\n",
    "    print(\"Both numbers are even.\")\n",
    "elif num1 % 2 == 0 or num2 % 2 == 0:\n",
    "    print(\"One of the numbers is even.\")\n",
    "else:\n",
    "    print(\"Both numbers are odd.\")"
   ]
  },
  {
   "cell_type": "markdown",
   "id": "012e3d86",
   "metadata": {},
   "source": [
    "q05"
   ]
  },
  {
   "cell_type": "code",
   "execution_count": null,
   "id": "0b26cf7c",
   "metadata": {},
   "outputs": [],
   "source": [
    "import random\n",
    "\n",
    "def guessing_game():\n",
    "    # Generate a random number between 0 and 10\n",
    "    secret_number = random.randint(0, 10)\n",
    "    num_tries = 0\n",
    "\n",
    "    while True:\n",
    "        # Ask the player to enter a number\n",
    "        guess = int(input(\"Guess a number between 0 and 10: \"))\n",
    "\n",
    "        # Increment the number of tries\n",
    "        num_tries += 1\n",
    "\n",
    "        # Check if the guess is correct\n",
    "        if guess == secret_number:\n",
    "            print(\"That's right! Number of tries:\", num_tries)\n",
    "            break\n",
    "\n",
    "        # Provide advice to the player based on the guess\n",
    "        if guess > secret_number:\n",
    "            print(\"Try a smaller number.\")\n",
    "        else:\n",
    "            print(\"Try a greater number.\")"
   ]
  },
  {
   "cell_type": "code",
   "execution_count": null,
   "id": "5f5ff402",
   "metadata": {},
   "outputs": [],
   "source": [
    "import random\n",
    "\n",
    "def guessing_game():\n",
    "    # Generate a random number between 0 and 10\n",
    "    secret_number = random.randint(0, 10)\n",
    "    num_tries1 = 0\n",
    "    num_tries2 = 0\n",
    "\n",
    "    # Player 1 guesses the number\n",
    "    print(\"Player 1's turn:\")\n",
    "    while True:\n",
    "        # Ask the player to enter a number\n",
    "        guess = int(input(\"Guess a number between 0 and 10: \"))\n",
    "\n",
    "        # Increment the number of tries\n",
    "        num_tries1 += 1\n",
    "\n",
    "        # Check if the guess is correct\n",
    "        if guess == secret_number:\n",
    "            print(\"That's right! Number of tries:\", num_tries1)\n",
    "            break\n",
    "\n",
    "        # Provide advice to the player based on the guess\n",
    "        if guess > secret_number:\n",
    "            print(\"Try a smaller number.\")\n",
    "        else:\n",
    "            print(\"Try a greater number.\")\n",
    "\n",
    "    # Player 2 guesses the number\n",
    "    print(\"Player 2's turn:\")\n",
    "    while True:\n",
    "        # Ask the player to enter a number\n",
    "        guess = int(input(\"Guess a number between 0 and 10: \"))\n",
    "\n",
    "        # Increment the number of tries\n",
    "        num_tries2 += 1\n",
    "\n",
    "        # Check if the guess is correct\n",
    "        if guess == secret_number:\n",
    "            print(\"That's right! Number of tries:\", num_tries2)\n",
    "            break\n",
    "\n",
    "        # Provide advice to the player based on the guess\n",
    "        if guess > secret_number:\n",
    "            print(\"Try a smaller number.\")\n",
    "        else:\n",
    "            print(\"Try a greater number.\")\n",
    "\n",
    "    # Determine the winner based on the number of tries\n",
    "    if num_tries1 < num_tries2:\n",
    "        print(\"Player 1 wins!\")\n",
    "    elif num_tries2 < num_tries1:\n",
    "        print(\"Player 2 wins!\")\n",
    "    else:\n",
    "        print(\"It's a tie!\")\n",
    "\n",
    "# Play the guessing game\n",
    "guessing_game()"
   ]
  },
  {
   "cell_type": "code",
   "execution_count": null,
   "id": "1ebe78a8",
   "metadata": {},
   "outputs": [],
   "source": []
  }
 ],
 "metadata": {
  "kernelspec": {
   "display_name": "Python 3 (ipykernel)",
   "language": "python",
   "name": "python3"
  },
  "language_info": {
   "codemirror_mode": {
    "name": "ipython",
    "version": 3
   },
   "file_extension": ".py",
   "mimetype": "text/x-python",
   "name": "python",
   "nbconvert_exporter": "python",
   "pygments_lexer": "ipython3",
   "version": "3.9.13"
  }
 },
 "nbformat": 4,
 "nbformat_minor": 5
}
